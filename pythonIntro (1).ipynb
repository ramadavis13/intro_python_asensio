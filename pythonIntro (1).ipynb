{
  "cells": [
    {
      "cell_type": "code",
      "execution_count": null,
      "metadata": {
        "id": "FtSBPHNzsN2u"
      },
      "outputs": [],
      "source": [
        "# Welcome to Introduction to Python\n",
        "# Raven Davis\n",
        "# raven.davis@library.gatech.edu\n",
        "# Jay Forrest\n",
        "# jay.forrest@library.gatech.edu\n",
        "\n",
        "# Resources\n",
        "# GT Library: www.library.gatech.edu\n",
        "# Anaconda Distribution: www.anaconda.com\n",
        "# Datacamp:  www.datacamp.com\n",
        "# Lynda: lynda.gatech.edu\n",
        "\n",
        "\n",
        "# Objectives\n",
        "# Learn basics of python programming\n",
        "# Explore common functions in Pandas and NumPy for data wrangling\n",
        "# Create data visualizations using Seaborn\n",
        "# Use python to do natural language processing"
      ]
    },
    {
      "cell_type": "code",
      "source": [
        "# Why Python?\n",
        "# --- Popular language for data analysis, data science, and general programming\n",
        "# --- Helps to create reproducible workflows to make research and analysis more efficient (modularize code, big data, etc.)\n",
        "\n",
        "# Why Colab?\n",
        "# --- Colab is cloud-based python notebook\n",
        "# --- Don't have to install any software\n",
        "# --- Can easily collaborate and ensure everyone has same version"
      ],
      "metadata": {
        "id": "iOGkByrR5Agp"
      },
      "execution_count": null,
      "outputs": []
    },
    {
      "cell_type": "code",
      "source": [
        "# Colab navigation\n",
        "\n",
        "# Comments use pound sign\n",
        "\n",
        "# '+Code' to add code cell\n",
        "\n",
        "# Play button to run code\n",
        "\n",
        "# '+ Text' adds markdown cell"
      ],
      "metadata": {
        "id": "IJzwmCV62f7C"
      },
      "execution_count": null,
      "outputs": []
    },
    {
      "cell_type": "code",
      "source": [
        "# Data Types\n",
        "# numeric types: ints (integers), floats (decimals), strings (characters)\n",
        "# sequence types: lists, tuples, dictionaries, sets\n",
        "# other: booleans, None\n",
        "# Pandas and NumPy have their own unique data types"
      ],
      "metadata": {
        "id": "oRIipwsYEOk0"
      },
      "execution_count": null,
      "outputs": []
    },
    {
      "cell_type": "code",
      "execution_count": null,
      "metadata": {
        "id": "0hOHeSgAsN2x"
      },
      "outputs": [],
      "source": [
        "# loading standard libraries\n",
        "# import [library name] as [alias]\n",
        "import numpy as np\n",
        "import pandas as pd\n",
        "import matplotlib.pyplot as plt\n",
        "import seaborn as sns"
      ]
    },
    {
      "cell_type": "code",
      "source": [
        "# Functions\n",
        "# [function name](argument)\n",
        "# There are many built-in functions in Python\n",
        "# You can also create your own function\n",
        "\n",
        "# Help\n",
        "help(str)"
      ],
      "metadata": {
        "id": "2tTIB0uqE_UF",
        "collapsed": true
      },
      "execution_count": null,
      "outputs": []
    },
    {
      "cell_type": "code",
      "execution_count": null,
      "metadata": {
        "id": "1mrNQEBysN2x"
      },
      "outputs": [],
      "source": [
        "# Variables\n",
        "# variables are names given to values\n",
        "# the \"=\" assigns a value to a variable name\n",
        "# variable names are case-sensitive and can't begin with a number\n",
        "\n",
        "a = 5 # the number 5 is assigned to the variable name 'a'\n",
        "a"
      ]
    },
    {
      "cell_type": "code",
      "source": [
        "# print(a)\n",
        "# b = 5\n",
        "# print(b)\n",
        "# a = 2\n",
        "# print(a)\n",
        "# b = a\n",
        "# print(b)"
      ],
      "metadata": {
        "id": "Xcr1R90R5-gI"
      },
      "execution_count": null,
      "outputs": []
    },
    {
      "cell_type": "code",
      "source": [
        "# What data type is a?\n",
        "# type(a)"
      ],
      "metadata": {
        "id": "iEbMeQ4p5wSd"
      },
      "execution_count": null,
      "outputs": []
    },
    {
      "cell_type": "code",
      "source": [
        "# Print\n",
        "# print() is a built-in Python function\n",
        "# print() allows you to print objects to display a Python object in your output cell\n",
        "a = 5\n",
        "print(a)\n",
        "# print(\"Hello\")\n",
        "# print(type(a))\n",
        "# print(type(\"Hello\")) # \"Hello\" is a string data type"
      ],
      "metadata": {
        "id": "GUdDzvJwBJLJ"
      },
      "execution_count": null,
      "outputs": []
    },
    {
      "cell_type": "code",
      "execution_count": null,
      "metadata": {
        "id": "0nnUmBUTsN2y"
      },
      "outputs": [],
      "source": [
        "#Numeric Operations +, -, *, /, **, %\n",
        "print(a+2)\n",
        "print(a)\n",
        "\n",
        "# print('Exponent: ' +str(25**2)) # '+' sign allows you to concatenate strings\n",
        "# print('Modulus: ' + str(25%2))\n",
        "# print('Division: ' + str(25/2))"
      ]
    },
    {
      "cell_type": "code",
      "source": [
        "# booleans\n",
        "# print(True)\n",
        "# print(False)\n",
        "# print(True or False)\n",
        "# print(True and False)\n",
        "# print(not False)\n",
        "\n",
        "# Comparison Operators\n",
        "\n",
        "# equal to\n",
        "# print(a==5)\n",
        "# # not equal to\n",
        "# print(a!=5)\n",
        "# # greater than and less than\n",
        "# b = 7\n",
        "# print(a > b)\n",
        "# print(a < b)\n",
        "\n"
      ],
      "metadata": {
        "id": "5Itg6yoSqkqY"
      },
      "execution_count": null,
      "outputs": []
    },
    {
      "cell_type": "code",
      "execution_count": null,
      "metadata": {
        "id": "m0H-80rzsN2y"
      },
      "outputs": [],
      "source": [
        "# if/elif/else\n",
        "\n",
        "if a == 5:\n",
        "  print(\"a = 5\")\n",
        "else:\n",
        "  print(\"a does not equal 5\")\n",
        "\n",
        "# if b < a:\n",
        "#    print(\"b is less than a\")\n",
        "# elif b == a:\n",
        "#    print(\"b is equal to a\")\n",
        "# else:\n",
        "#    print(\"b is not greater than a\")"
      ]
    },
    {
      "cell_type": "code",
      "source": [
        "# Lists allow you to store multiple items in the same variable\n",
        "# a = 'brown'\n",
        "# b = 'fox'\n",
        "# my_list = ['the', 'quick',  a , b]\n",
        "# print(my_list)"
      ],
      "metadata": {
        "id": "I72s8O-HlmCz"
      },
      "execution_count": null,
      "outputs": []
    },
    {
      "cell_type": "code",
      "execution_count": null,
      "metadata": {
        "id": "h6j66WG8sN2y"
      },
      "outputs": [],
      "source": [
        "# List Operations\n",
        "# my_list * 2\n",
        "# # # Length\n",
        "# len(my_list)\n",
        "# # # Index\n",
        "# my_list[1]\n",
        "# # Slice (inclusive start | exclusive end)\n",
        "# my_list[0:2]\n",
        "#my_list[:-2]\n",
        "# my_list[0:2]\n",
        "# my_list2 = [[1,2,3,4] + [5,6,7,8]]\n",
        "# my_list2\n",
        "# my_list2[0]\n",
        "# my_list2[0][2]\n",
        "# my_list3 = [[1,2,3,4] , [5,6,7,8]]\n",
        "# # How many elements does the outer list have?\n",
        "# # How many elements does each inner list have?\n",
        "# my_list3[0]\n",
        "# my_list3[0][2]"
      ]
    },
    {
      "cell_type": "code",
      "source": [
        "# Dictionary Operations\n",
        "# my_dict = {\"first\": \"a\", \"second\": 5, 6:[8,9,10]}\n",
        "# print(my_dict[\"first\"])\n",
        "# # print(my_dict[6])\n",
        "# print(my_dict[6][1])\n",
        "# my_dict.keys()\n",
        "# my_dict.values()\n",
        "# my_dict.items()\n",
        "# my_dict\n",
        "# my_dict.items()"
      ],
      "metadata": {
        "id": "ydA0vXUvxFa1"
      },
      "execution_count": null,
      "outputs": []
    },
    {
      "cell_type": "code",
      "source": [
        "# loops\n",
        "a = 2\n",
        "b = 5\n",
        "\n",
        "# while a < b:\n",
        "#   a = a + 1\n",
        "#   print(\"a is still less than b\")\n",
        "\n",
        "# # Using the range function for loops\n",
        "\n",
        "# range(0,10)\n",
        "# list(range(0,10))\n",
        "\n",
        "# # For Loops\n",
        "# for i in range(10):\n",
        "#   print(i)\n",
        "# for i in range(len(my_list)):\n",
        "#   print(i)\n",
        "# for element in my_list:\n",
        "#   print(element)\n",
        "# for keys in my_dict:\n",
        "#   print(keys)\n",
        "# for keys in my_dict.keys():\n",
        "#   print(keys)\n",
        "# for values in my_dict.values():\n",
        "#   print(values)\n",
        "# for all in my_dict.items():\n",
        "#   print(all)\n",
        "# for keys, values in my_dict.items():\n",
        "#   print(keys)\n",
        "#   print(values)"
      ],
      "metadata": {
        "id": "4rPV4gOTqi0J"
      },
      "execution_count": null,
      "outputs": []
    },
    {
      "cell_type": "code",
      "source": [
        "# Creating a function\n",
        "# def print_element(lst):\n",
        "#   for element in lst:\n",
        "#     print(element)\n",
        "#   return(\"Finished\")\n",
        "\n",
        "# print_element(my_list)"
      ],
      "metadata": {
        "id": "rkSwPgKzxIDC"
      },
      "execution_count": null,
      "outputs": []
    },
    {
      "cell_type": "code",
      "source": [
        "# NumPy\n",
        "# -- faster than Python's native data structures\n",
        "# -- can create multidimensional arrays\n",
        "# -- can create specific matrices\n",
        "# -- all elements must be the same data type (unlike dictionaries and lists)\n",
        "# -- once created, size of array can't change"
      ],
      "metadata": {
        "id": "EwhOCC74AdeI"
      },
      "execution_count": null,
      "outputs": []
    },
    {
      "cell_type": "code",
      "execution_count": null,
      "metadata": {
        "id": "ZEM5Px5dsN20"
      },
      "outputs": [],
      "source": [
        "# Arrays\n",
        "\n",
        "# # Creating arrays\n",
        "# my_array = np.array(my_list3[0][0:4]) # from a list\n",
        "# my_array\n",
        "# my_array = np.array([0,3,4,8]) # without a list\n",
        "# print(my_array)\n",
        "# # An array of zeros\n",
        "# np.zeros(2) # an array of zeros\n",
        "# np.zeros((3,4)) # a zero matrix\n",
        "# # An array of ones\n",
        "# np.ones((2,4))\n",
        "# # An empty array\n",
        "# ## np.empty((3,3))\n",
        "# # An array of random numbers\n",
        "# # np.random.randint(0,10, 1)\n",
        "\n",
        "# # # Indexing and Slicing\n",
        "# my_array[0]\n",
        "# # my_array[1:3]\n",
        "# # print(my_list3)\n",
        "# # print(my_array[0,1])\n",
        "# # print(my_array[0,1:3])\n",
        "\n",
        "# # Array Attributes\n",
        "# my_array.ndim\n",
        "# # my_array.shape\n",
        "# # my_array.size\n",
        "# # my_array.dtype\n",
        "\n",
        "# # Array Operations\n",
        "# my_array + np.ones(4) # addition\n",
        "# # my_array * np.ones(4) # multiplication\n",
        "# my_array * 5 # broadcasting\n",
        "\n",
        "# # Masking\n",
        "# my_array > 2\n",
        "# mask = my_array > 2\n",
        "# my_array[mask]"
      ]
    },
    {
      "cell_type": "code",
      "source": [
        "# Pandas\n",
        "# https://pandas.pydata.org/docs/reference/index.html\n",
        "# -- popular package for handling data in Python"
      ],
      "metadata": {
        "id": "nUq_nwW7MibJ"
      },
      "execution_count": null,
      "outputs": []
    },
    {
      "cell_type": "code",
      "source": [
        "# Diabetes Health Indicator Dataset\n",
        "# The Behavioral Risk Factor Surveillance System (BRFSS) is a health-related telephone survey that is collected annually by the CDC.\n",
        "# Each year, the survey collects responses from over 400,000 Americans on health-related risk behaviors, chronic health conditions,\n",
        "# and the use of preventative services. It has been conducted every year since 1984.\n",
        "\n",
        "# https://www.kaggle.com/datasets/alexteboul/diabetes-health-indicators-dataset"
      ],
      "metadata": {
        "id": "dD5jOIaTMnFn"
      },
      "execution_count": null,
      "outputs": []
    },
    {
      "cell_type": "code",
      "execution_count": null,
      "metadata": {
        "scrolled": true,
        "id": "AUTMHGF3sN21",
        "collapsed": true
      },
      "outputs": [],
      "source": [
        "# Data Frames\n",
        "# Load csv\n",
        "# diabetes_df = pd.read_csv('/content/diabetes_012_health_indicators_BRFSS2015.csv', nrows=6, header=0, index_col=0) # load a portion of dataset\n",
        "# diabetes_df\n",
        "\n",
        "# diabetes_df = pd.read_csv('/content/diabetes_012_health_indicators_BRFSS2015.csv') # load entire dataset\n",
        "# diabetes_df\n",
        "\n",
        "# diabetes_df.head(7) # get first few rows, defaults to 5\n",
        "# diabetes_df.tail() # get last few rows\n",
        "# diabetes_df.shape[0] # number of rows\n",
        "# diabetes_df.shape[1] # number of columns\n",
        "# print(diabetes_df.columns) # columns in dataset\n",
        "\n",
        "# # Indexing and slicing\n",
        "# diabetes_df[\"GenHlth\"]# selecting one column\n",
        "# # diabetes_df.GenHlth # selecting one column\n",
        "# diabetes_df[[\"GenHlth\", \"BMI\", \"Stroke\"]] # selecting multiple columns\n",
        "# # diabetes_df.loc[:5, \"GenHlth\"] # slicing with loc\n",
        "# # diabetes_df.iloc[0:10, 5:8] # slicing with iloc\n",
        "# # diabetes_df.iloc[0,2] #specific value\n",
        "\n",
        "# # Descriptive Statistics\n",
        "# # print(diabetes_df.describe()) # descriptive statistics for numeric columns\n",
        "# # len(diabetes_df) # length\n",
        "# # diabetes_df[\"BMI\"].median() # median\n",
        "# diabetes_df[\"MentHlth\"].mean()# mean\n",
        "# diabetes_df[\"Smoker\"].count() # count\n",
        "# diabetes_df[\"Smoker\"].sum() # sum"
      ]
    },
    {
      "cell_type": "code",
      "source": [
        "# groupby\n",
        "# diabetes_df[[\"Education\", \"Stroke\"]].groupby(\"Education\").sum()\n",
        "# diabetes_df.groupby([\"Income\",\"Education\"])[\"PhysActivity\"].mean()"
      ],
      "metadata": {
        "collapsed": true,
        "id": "E5EEN_-OX9ls"
      },
      "execution_count": null,
      "outputs": []
    },
    {
      "cell_type": "code",
      "source": [
        "# Boolean indexing\n",
        "# diabetes_df[\"PhysHlth\"] > 10\n",
        "# # diabetes_df[\"HighChol\"] == 1.0\n",
        "# diabetes_df[diabetes_df[\"PhysHlth\"] > 10]\n",
        "\n",
        "# # # mask\n",
        "# diabetes_df[diabetes_df['Stroke'] == 1.0] # subset dataframe to only include records where person experienced stroke\n",
        "# mask = diabetes_df['Stroke'] == 1.0\n",
        "# filtered_data = diabetes_df[mask] # save new subsetted dataset to a new variable\n",
        "# filtered_data = diabetes_df[mask].reset_index(drop=True) # reset the index and drop the previous index\n",
        "# mask = (diabetes_df['Stroke'] == 1.0) & (diabetes_df[\"PhysHlth\"] > 10)\n",
        "# filtered_data = diabetes_df[mask].reset_index(drop=True)\n",
        "# filtered_data.head()"
      ],
      "metadata": {
        "collapsed": true,
        "id": "MFqXUgOBHeKo"
      },
      "execution_count": null,
      "outputs": []
    },
    {
      "cell_type": "code",
      "source": [
        "# Useful operations\n",
        "\n",
        "# sort values\n",
        "# filtered_data.sort_values(by=\"BMI\")\n",
        "\n",
        "# # max\n",
        "# filtered_data[\"BMI\"].max()\n",
        "\n",
        "# # unique\n",
        "# filtered_data[\"Age\"].unique()\n",
        "# # rename\n",
        "# filtered_data.rename(columns={\"Diabetes_012\": \"Diabetes\"})"
      ],
      "metadata": {
        "id": "Jl5waNfMaCtS",
        "collapsed": true
      },
      "execution_count": null,
      "outputs": []
    },
    {
      "cell_type": "code",
      "source": [
        "# Pivot Tables\n",
        "\n",
        "# pd.pivot_table(filtered_data, values = ['BMI'],\n",
        "                           index = ['Education'],\n",
        "                           columns = ['Diabetes_012'])\n"
      ],
      "metadata": {
        "id": "gDyJ_VlxH2_i",
        "collapsed": true
      },
      "execution_count": null,
      "outputs": []
    },
    {
      "cell_type": "code",
      "source": [
        "# Applying functions\n",
        "# diabetes_df.apply(np.mean, axis=0)\n",
        "\n",
        "# create function\n",
        "# def stroke_and_diabetes(row):\n",
        "#   \"\"\" 1 if patient had both a stroke and diabetes, 0 if not\"\"\"\n",
        "#   if row[\"Stroke\"]==1.0 and row[\"Diabetes_012\"]==1.0:\n",
        "#     return 1.0\n",
        "#   else:\n",
        "#     return 0.0\n",
        "\n",
        "# diabetes_df[\"Stoke_Diabetes\"] = diabetes_df.apply(stroke_and_diabetes, axis=1)\n",
        "# diabetes_df.head()"
      ],
      "metadata": {
        "id": "-4ouG-9taU-T"
      },
      "execution_count": null,
      "outputs": []
    },
    {
      "cell_type": "code",
      "source": [
        "# diabetes_df[\"BMI\"].apply(lambda d: int(d)) #lambda function"
      ],
      "metadata": {
        "id": "RF47_km5xTdr"
      },
      "execution_count": null,
      "outputs": []
    },
    {
      "cell_type": "code",
      "source": [
        "# Data Visualization\n",
        "# https://seaborn.pydata.org/api.html\n",
        "sns.set(rc={'figure.figsize':(10, 6)}) # make grid 10 x 6\n",
        "# Bar Chart\n",
        "sns.barplot(x=\"Income\",\n",
        "            y = \"PhysHlth\",\n",
        "            hue = \"Education\",\n",
        "            data = diabetes_df)"
      ],
      "metadata": {
        "id": "w1fwzbz--H3w"
      },
      "execution_count": null,
      "outputs": []
    },
    {
      "cell_type": "code",
      "source": [
        "sns.barplot(data = diabetes_df,\n",
        "            x=\"Income\",\n",
        "            y = \"PhysHlth\",\n",
        "            hue = \"Education\",\n",
        "            palette = \"deep\") # change color palette"
      ],
      "metadata": {
        "id": "i_Gmt78lXqqi"
      },
      "execution_count": null,
      "outputs": []
    },
    {
      "cell_type": "code",
      "source": [
        "sns.barplot(data = diabetes_df,\n",
        "            x=\"Income\",\n",
        "            y = \"PhysHlth\",\n",
        "            hue = \"Education\",\n",
        "            palette = \"deep\",\n",
        "            errorbar = None) # remove error bars"
      ],
      "metadata": {
        "id": "CvqynR9Ed3sL"
      },
      "execution_count": null,
      "outputs": []
    },
    {
      "cell_type": "code",
      "source": [
        "ax = sns.barplot(data = diabetes_df,\n",
        "            x=\"Income\",\n",
        "            y = \"PhysHlth\",\n",
        "            hue = \"Education\",\n",
        "            palette = \"deep\",\n",
        "            errorbar = None)\n",
        "\n",
        "ax.set(title=\"Diabetes by Income and Education Level\", ylabel=\"Diabetes\") # add title and axis labels using the barplot object\n",
        "plt.show() # use plt.show to show updated graph"
      ],
      "metadata": {
        "id": "j8k0afVoebx2"
      },
      "execution_count": null,
      "outputs": []
    },
    {
      "cell_type": "code",
      "execution_count": null,
      "metadata": {
        "id": "dQEBTZCGsN22"
      },
      "outputs": [],
      "source": [
        "# Histogram\n",
        "sns.histplot(data=diabetes_df, x=\"BMI\")"
      ]
    },
    {
      "cell_type": "code",
      "source": [
        "sns.histplot(data=diabetes_df, x=\"BMI\",\n",
        "             bins=50) # change number of bins"
      ],
      "metadata": {
        "id": "9Mp7xUX1jB9Y"
      },
      "execution_count": null,
      "outputs": []
    },
    {
      "cell_type": "code",
      "source": [
        "sns.histplot(data=diabetes_df, x=\"BMI\",\n",
        "             bins=40,\n",
        "             hue=\"Income\") # add hue dimension to show income"
      ],
      "metadata": {
        "id": "so-tLA66jLTb"
      },
      "execution_count": null,
      "outputs": []
    },
    {
      "cell_type": "code",
      "source": [
        "sns.histplot(data=diabetes_df, x=\"BMI\",\n",
        "             bins=40,\n",
        "             hue=\"Income\",\n",
        "             log_scale = True) # use log scaling to normalize the distribution of values"
      ],
      "metadata": {
        "id": "Hwx_NnEijxY0"
      },
      "execution_count": null,
      "outputs": []
    },
    {
      "cell_type": "code",
      "source": [
        "sns.histplot(data=diabetes_df, x=\"BMI\",\n",
        "             bins=40,\n",
        "             hue=\"Income\",\n",
        "             log_scale = True,\n",
        "             palette = \"deep\") # change the color palette"
      ],
      "metadata": {
        "id": "il4khKmbj1Hz"
      },
      "execution_count": null,
      "outputs": []
    },
    {
      "cell_type": "code",
      "execution_count": null,
      "metadata": {
        "id": "4ZJteK9NsN22"
      },
      "outputs": [],
      "source": [
        "# Pointplot\n",
        "# https://seaborn.pydata.org/tutorial/color_palettes.html\n",
        "\n",
        "sns.pointplot(x=\"Income\",\n",
        "              y = \"PhysHlth\",\n",
        "              data = diabetes_df)"
      ]
    },
    {
      "cell_type": "code",
      "source": [
        "sns.pointplot(x=\"Income\",\n",
        "              y = \"PhysHlth\",\n",
        "              data = diabetes_df,\n",
        "              estimator = \"mean\") # choose an aggregation method with estimator argument"
      ],
      "metadata": {
        "id": "VVZOctHEmI_s"
      },
      "execution_count": null,
      "outputs": []
    },
    {
      "cell_type": "code",
      "source": [
        "sns.pointplot(x=\"Income\",\n",
        "              y = \"PhysHlth\",\n",
        "              data = diabetes_df,\n",
        "              estimator = \"mean\",\n",
        "              hue = \"NoDocbcCost\") # use hue to add another variable"
      ],
      "metadata": {
        "id": "yTG_ivXCmOwE"
      },
      "execution_count": null,
      "outputs": []
    },
    {
      "cell_type": "code",
      "source": [
        "sns.pointplot(x=\"Income\",\n",
        "              y = \"PhysHlth\",\n",
        "              data = diabetes_df,\n",
        "              estimator = \"mean\",\n",
        "              hue = \"NoDocbcCost\")\n",
        "plt.title('Physical Health by Access to Doctors Over Income Level') # add titles and labels\n",
        "plt.xlabel('Income Level')\n",
        "plt.ylabel('BMI')\n",
        "plt.savefig('figure1.png') # save chart as png file"
      ],
      "metadata": {
        "id": "RdIrh5bOnquZ"
      },
      "execution_count": null,
      "outputs": []
    },
    {
      "cell_type": "code",
      "execution_count": null,
      "metadata": {
        "id": "LKJDIl-isN22"
      },
      "outputs": [],
      "source": [
        "# definining functions\n",
        "# load regular expressions package\n",
        "import re"
      ]
    },
    {
      "cell_type": "code",
      "execution_count": null,
      "metadata": {
        "id": "CNa2zDc_sN22"
      },
      "outputs": [],
      "source": [
        "# a function for tokenizing text\n",
        "def tokenizer(text):\n",
        "    text = text.lower()\n",
        "    tokens = re.findall('\\w+',text)  # \\w is a regular expression for any alphanumeric character\n",
        "    return tokens"
      ]
    },
    {
      "cell_type": "code",
      "execution_count": null,
      "metadata": {
        "id": "gtWsqqXgsN23"
      },
      "outputs": [],
      "source": [
        "text = \"The day was grey and bitter cold, and the dogs would not take the scent. The big dog had taken one sniff at the bear tracks, backed off, and skulked back to the pack with her tail between her legs.\"\n",
        "tokens = tokenizer(text)\n",
        "tokens"
      ]
    },
    {
      "cell_type": "code",
      "execution_count": null,
      "metadata": {
        "id": "8Y4kTt9nsN23"
      },
      "outputs": [],
      "source": [
        "# two more complicated examples\n",
        "def ngramizer(tokens, n):\n",
        "  \"\"\"\n",
        "  Takes list of words and a number n and creates n lists starting at different\n",
        "  indices.\n",
        "  The lists are zipped together as tuples, to create tuples of n elements (n-grams)\n",
        "  \"\"\"\n",
        "  #bigrams = list(zip(tokens[0:],tokens[1:]))\n",
        "  ngrams = list(zip(*(tokens[i:] for i in range(n))))\n",
        "  return ngrams\n",
        "\n",
        "def bigram_probability(text, x, y):\n",
        "  \"\"\"\n",
        "  Takes text and two words\n",
        "  Returns probability of one word, y, occuring given another, x\n",
        "  Returns probability of bigram occuring\n",
        "  Returns bigrams in text\n",
        "  \"\"\"\n",
        "  tokens = tokenizer(text) # use tokenizer\n",
        "  bigrams = ngramizer(tokens, 2) #create bigrams (n=2) of tokens\n",
        "\n",
        "  #Calculate frequencies\n",
        "  bigram_freq = bigrams.count((x,y)) # calculate frequency of bigram\n",
        "  token_freq = tokens.count(x) # calculate frequency of individual word/token\n",
        "\n",
        "  #probability of y given x\n",
        "  prob_y_x = bigram_freq / token_freq\n",
        "\n",
        "  #probability of bigram\n",
        "  prob_bigram = bigram_freq / len(bigrams)\n",
        "\n",
        "  #return token_freq, prob_y_x, prob_bigram\n",
        "  # display output\n",
        "  print(\"Probability of '{}' given '{}' : {:1.3f} \\nProbability of Bigram '{} {}' : {:1.3f}\".format(y, x, prob_y_x, x, y, prob_bigram))\n",
        "  print(\"\\nBigrams: {}\".format(bigrams))\n"
      ]
    },
    {
      "cell_type": "code",
      "execution_count": null,
      "metadata": {
        "id": "EAQwYq5HsN23",
        "collapsed": true
      },
      "outputs": [],
      "source": [
        "bigram_probability(text, 'was', 'grey')"
      ]
    }
  ],
  "metadata": {
    "kernelspec": {
      "display_name": "Python 3",
      "language": "python",
      "name": "python3"
    },
    "language_info": {
      "codemirror_mode": {
        "name": "ipython",
        "version": 3
      },
      "file_extension": ".py",
      "mimetype": "text/x-python",
      "name": "python",
      "nbconvert_exporter": "python",
      "pygments_lexer": "ipython3",
      "version": "3.8.8"
    },
    "colab": {
      "provenance": []
    }
  },
  "nbformat": 4,
  "nbformat_minor": 0
}